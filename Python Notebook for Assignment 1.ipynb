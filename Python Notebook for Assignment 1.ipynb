{
 "cells": [
  {
   "cell_type": "code",
   "execution_count": 9,
   "id": "velvet-rebecca",
   "metadata": {},
   "outputs": [],
   "source": [
    "import pandas as pd"
   ]
  },
  {
   "cell_type": "code",
   "execution_count": 12,
   "id": "eastern-shift",
   "metadata": {},
   "outputs": [
    {
     "name": "stdout",
     "output_type": "stream",
     "text": [
      "          y        x\n",
      "0    6.8102   9.8492\n",
      "1    9.8437  11.1450\n",
      "2    4.9767   5.1209\n",
      "3    5.0006   8.1085\n",
      "4    3.5047   3.5599\n",
      "5    3.6419   1.9883\n",
      "6    7.8725  15.5322\n",
      "7    5.1442   7.5202\n",
      "8    8.3883  14.0202\n",
      "9    6.8204   7.5226\n",
      "10   9.0185  14.3272\n",
      "11   2.6148   3.8950\n",
      "12   3.7367   1.8707\n",
      "13   2.8651   0.8347\n",
      "14  10.7469  18.3413\n",
      "15   2.3710   1.6645\n",
      "16   9.6653  17.0579\n",
      "17   7.1926   9.2375\n",
      "18  11.7833  21.0000\n",
      "19   3.9537   3.5286\n",
      "20  15.0000  25.0000\n",
      "21   7.9152   9.9008\n",
      "22   9.3368  17.5990\n",
      "23   8.7587  13.8790\n",
      "24   6.7813  10.8690\n",
      "25   7.9924  12.6238\n",
      "26   2.2806   0.9719\n",
      "27  10.4050  14.4814\n",
      "28   3.7891   2.1792\n",
      "29  10.9067  18.4052\n"
     ]
    }
   ],
   "source": [
    "df = pd.read_csv (\"regrex1.csv\")\n",
    "print (df)"
   ]
  },
  {
   "cell_type": "code",
   "execution_count": 15,
   "id": "unlikely-leeds",
   "metadata": {},
   "outputs": [
    {
     "data": {
      "image/png": "[encoded data removed]",
      "text/plain": [
       "<Figure size 432x288 with 1 Axes>"
      ]
     },
     "metadata": {
      "needs_background": "light"
     },
     "output_type": "display_data"
    }
   ],
   "source": [
    "import matplotlib.pyplot as plt\n",
    "\n",
    "x = [9.8492,\n",
    "11.145,\n",
    "5.1209,\n",
    "8.1085,\n",
    "3.5599,\n",
    "1.9883,\n",
    "15.5322,\n",
    "7.5202,\n",
    "14.0202,\n",
    "7.5226,\n",
    "14.3272,\n",
    "3.895,\n",
    "1.8707,\n",
    "0.8347,\n",
    "18.3413,\n",
    "1.6645,\n",
    "17.0579,\n",
    "9.2375,\n",
    "21,\n",
    "3.5286,\n",
    "25,\n",
    "9.9008,\n",
    "17.599,\n",
    "13.879,\n",
    "10.869,\n",
    "12.6238,\n",
    "0.9719,\n",
    "14.4814,\n",
    "2.1792,\n",
    "18.4052]\n",
    "\n",
    "y = [6.8102,\n",
    "9.8437,\n",
    "4.9767,\n",
    "5.0006,\n",
    "3.5047,\n",
    "3.6419,\n",
    "7.8725,\n",
    "5.1442,\n",
    "8.3883,\n",
    "6.8204,\n",
    "9.0185,\n",
    "2.6148,\n",
    "3.7367,\n",
    "2.8651,\n",
    "10.7469,\n",
    "2.371,\n",
    "9.6653,\n",
    "7.1926,\n",
    "11.7833,\n",
    "3.9537,\n",
    "15,\n",
    "7.9152,\n",
    "9.3368,\n",
    "8.7587,\n",
    "6.7813,\n",
    "7.9924,\n",
    "2.2806,\n",
    "10.405,\n",
    "3.7891,\n",
    "10.9067]\n",
    "\n",
    "plt.scatter(x,y)\n",
    "plt.title('Regrex Data')\n",
    "plt.xlabel('x')\n",
    "plt.ylabel('y')\n",
    "plt.show()"
   ]
  },
  {
   "cell_type": "code",
   "execution_count": null,
   "id": "outside-richards",
   "metadata": {},
   "outputs": [],
   "source": []
  }
 ],
 "metadata": {
  "kernelspec": {
   "display_name": "Python 3",
   "language": "python",
   "name": "python3"
  },
  "language_info": {
   "codemirror_mode": {
    "name": "ipython",
    "version": 3
   },
   "file_extension": ".py",
   "mimetype": "text/x-python",
   "name": "python",
   "nbconvert_exporter": "python",
   "pygments_lexer": "ipython3",
   "version": "3.8.8"
  }
 },
 "nbformat": 4,
 "nbformat_minor": 5
}
